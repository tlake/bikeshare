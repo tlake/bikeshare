{
 "cells": [
  {
   "cell_type": "markdown",
   "metadata": {},
   "source": [
    "### _takin' care of imports_"
   ]
  },
  {
   "cell_type": "code",
   "execution_count": 167,
   "metadata": {
    "collapsed": true
   },
   "outputs": [],
   "source": [
    "from pandas import Series, DataFrame"
   ]
  },
  {
   "cell_type": "code",
   "execution_count": 168,
   "metadata": {
    "collapsed": true
   },
   "outputs": [],
   "source": [
    "import pandas as pd"
   ]
  },
  {
   "cell_type": "code",
   "execution_count": 169,
   "metadata": {
    "collapsed": true
   },
   "outputs": [],
   "source": [
    "import numpy as np"
   ]
  },
  {
   "cell_type": "code",
   "execution_count": 170,
   "metadata": {
    "collapsed": true
   },
   "outputs": [],
   "source": [
    "import matplotlib.pyplot as plt"
   ]
  },
  {
   "cell_type": "code",
   "execution_count": 171,
   "metadata": {
    "collapsed": false
   },
   "outputs": [],
   "source": [
    "import matplotlib"
   ]
  },
  {
   "cell_type": "code",
   "execution_count": 172,
   "metadata": {
    "collapsed": true
   },
   "outputs": [],
   "source": [
    "%matplotlib inline"
   ]
  },
  {
   "cell_type": "markdown",
   "metadata": {},
   "source": [
    "### _read in data_"
   ]
  },
  {
   "cell_type": "code",
   "execution_count": 173,
   "metadata": {
    "collapsed": false
   },
   "outputs": [],
   "source": [
    "weather = pd.read_table('data/daily_weather.tsv')"
   ]
  },
  {
   "cell_type": "code",
   "execution_count": 174,
   "metadata": {
    "collapsed": true
   },
   "outputs": [],
   "source": [
    "stations = pd.read_table('data/stations.tsv')"
   ]
  },
  {
   "cell_type": "code",
   "execution_count": 175,
   "metadata": {
    "collapsed": true
   },
   "outputs": [],
   "source": [
    "usage = pd.read_table('data/usage_2012.tsv')"
   ]
  },
  {
   "cell_type": "markdown",
   "metadata": {},
   "source": [
    "### _repeat data fixing from step1_"
   ]
  },
  {
   "cell_type": "code",
   "execution_count": 176,
   "metadata": {
    "collapsed": true
   },
   "outputs": [],
   "source": [
    "weather['date'] = pd.to_datetime(weather['date'])"
   ]
  },
  {
   "cell_type": "code",
   "execution_count": 177,
   "metadata": {
    "collapsed": true
   },
   "outputs": [],
   "source": [
    "weather.loc[weather['season_code'] == 1, 'season_desc'] = 'winter'\n",
    "weather.loc[weather['season_code'] == 2, 'season_desc'] = 'spring'\n",
    "weather.loc[weather['season_code'] == 3, 'season_desc'] = 'summer'\n",
    "weather.loc[weather['season_code'] == 4, 'season_desc'] = 'fall'"
   ]
  },
  {
   "cell_type": "code",
   "execution_count": 178,
   "metadata": {
    "collapsed": true
   },
   "outputs": [],
   "source": [
    "weather.loc[weather['season_desc'] == 'winter', 'season_code'] = 4\n",
    "weather.loc[weather['season_desc'] == 'spring', 'season_code'] = 1\n",
    "weather.loc[weather['season_desc'] == 'summer', 'season_code'] = 2\n",
    "weather.loc[weather['season_desc'] == 'fall', 'season_code'] = 3"
   ]
  },
  {
   "cell_type": "markdown",
   "metadata": {},
   "source": [
    "# 1. To start with, we'll need to compute the number of rentals per station per day. Use pandas to do that."
   ]
  },
  {
   "cell_type": "markdown",
   "metadata": {},
   "source": [
    "### _we found the average number of rentals per station in step2; recreated below_"
   ]
  },
  {
   "cell_type": "code",
   "execution_count": 179,
   "metadata": {
    "collapsed": false
   },
   "outputs": [],
   "source": [
    "riders_per_station = DataFrame(usage['station_start'].value_counts())"
   ]
  },
  {
   "cell_type": "markdown",
   "metadata": {},
   "source": [
    "# 2a. Our stations data has a huge number of quantitative attributes: fast_food, parking, restaurant, etc... Some of them are encoded as 0 or 1 (for absence or presence), others represent counts. To start with, run a simple linear regression where the input (x) variables are all the various station attributes and the output (y) variable is the average number of rentals per day."
   ]
  },
  {
   "cell_type": "code",
   "execution_count": 180,
   "metadata": {
    "collapsed": true
   },
   "outputs": [],
   "source": [
    "from sklearn.linear_model import LinearRegression"
   ]
  },
  {
   "cell_type": "code",
   "execution_count": 181,
   "metadata": {
    "collapsed": true
   },
   "outputs": [],
   "source": [
    "model = LinearRegression()"
   ]
  },
  {
   "cell_type": "code",
   "execution_count": 182,
   "metadata": {
    "collapsed": false
   },
   "outputs": [
    {
     "data": {
      "text/html": [
       "<div>\n",
       "<table border=\"1\" class=\"dataframe\">\n",
       "  <thead>\n",
       "    <tr style=\"text-align: right;\">\n",
       "      <th></th>\n",
       "      <th>0</th>\n",
       "    </tr>\n",
       "  </thead>\n",
       "  <tbody>\n",
       "    <tr>\n",
       "      <th>Massachusetts Ave &amp; Dupont Circle NW</th>\n",
       "      <td>69850</td>\n",
       "    </tr>\n",
       "    <tr>\n",
       "      <th>Columbus Circle / Union Station</th>\n",
       "      <td>55146</td>\n",
       "    </tr>\n",
       "    <tr>\n",
       "      <th>15th &amp; P St NW</th>\n",
       "      <td>49416</td>\n",
       "    </tr>\n",
       "    <tr>\n",
       "      <th>17th &amp; Corcoran St NW</th>\n",
       "      <td>43547</td>\n",
       "    </tr>\n",
       "    <tr>\n",
       "      <th>14th &amp; V St NW</th>\n",
       "      <td>40242</td>\n",
       "    </tr>\n",
       "  </tbody>\n",
       "</table>\n",
       "</div>"
      ],
      "text/plain": [
       "                                          0\n",
       "Massachusetts Ave & Dupont Circle NW  69850\n",
       "Columbus Circle / Union Station       55146\n",
       "15th & P St NW                        49416\n",
       "17th & Corcoran St NW                 43547\n",
       "14th & V St NW                        40242"
      ]
     },
     "execution_count": 182,
     "metadata": {},
     "output_type": "execute_result"
    }
   ],
   "source": [
    "riders_per_station.head()"
   ]
  },
  {
   "cell_type": "code",
   "execution_count": 183,
   "metadata": {
    "collapsed": false
   },
   "outputs": [
    {
     "data": {
      "text/html": [
       "<div>\n",
       "<table border=\"1\" class=\"dataframe\">\n",
       "  <thead>\n",
       "    <tr style=\"text-align: right;\">\n",
       "      <th></th>\n",
       "      <th>no_bikes</th>\n",
       "      <th>no_empty_docks</th>\n",
       "      <th>fast_food</th>\n",
       "      <th>parking</th>\n",
       "      <th>restaurant</th>\n",
       "      <th>convenience</th>\n",
       "      <th>post_office</th>\n",
       "      <th>bicycle_parking</th>\n",
       "      <th>drinking_water</th>\n",
       "      <th>recycling</th>\n",
       "      <th>...</th>\n",
       "      <th>sculpture</th>\n",
       "      <th>hostel</th>\n",
       "      <th>picnic_site</th>\n",
       "      <th>tour_guide</th>\n",
       "      <th>attraction</th>\n",
       "      <th>landmark</th>\n",
       "      <th>motel</th>\n",
       "      <th>guest_house</th>\n",
       "      <th>gallery</th>\n",
       "      <th>riders</th>\n",
       "    </tr>\n",
       "  </thead>\n",
       "  <tbody>\n",
       "    <tr>\n",
       "      <th>20th &amp; Bell St</th>\n",
       "      <td>7</td>\n",
       "      <td>4</td>\n",
       "      <td>0</td>\n",
       "      <td>0</td>\n",
       "      <td>0</td>\n",
       "      <td>0</td>\n",
       "      <td>0</td>\n",
       "      <td>0</td>\n",
       "      <td>0</td>\n",
       "      <td>0</td>\n",
       "      <td>...</td>\n",
       "      <td>0</td>\n",
       "      <td>0</td>\n",
       "      <td>0</td>\n",
       "      <td>0</td>\n",
       "      <td>0</td>\n",
       "      <td>0</td>\n",
       "      <td>0</td>\n",
       "      <td>0</td>\n",
       "      <td>0</td>\n",
       "      <td>1688</td>\n",
       "    </tr>\n",
       "    <tr>\n",
       "      <th>18th &amp; Eads St.</th>\n",
       "      <td>6</td>\n",
       "      <td>4</td>\n",
       "      <td>0</td>\n",
       "      <td>0</td>\n",
       "      <td>0</td>\n",
       "      <td>0</td>\n",
       "      <td>0</td>\n",
       "      <td>0</td>\n",
       "      <td>0</td>\n",
       "      <td>0</td>\n",
       "      <td>...</td>\n",
       "      <td>0</td>\n",
       "      <td>0</td>\n",
       "      <td>0</td>\n",
       "      <td>0</td>\n",
       "      <td>0</td>\n",
       "      <td>0</td>\n",
       "      <td>0</td>\n",
       "      <td>0</td>\n",
       "      <td>0</td>\n",
       "      <td>NaN</td>\n",
       "    </tr>\n",
       "    <tr>\n",
       "      <th>20th &amp; Crystal Dr</th>\n",
       "      <td>9</td>\n",
       "      <td>6</td>\n",
       "      <td>0</td>\n",
       "      <td>0</td>\n",
       "      <td>0</td>\n",
       "      <td>0</td>\n",
       "      <td>0</td>\n",
       "      <td>0</td>\n",
       "      <td>0</td>\n",
       "      <td>0</td>\n",
       "      <td>...</td>\n",
       "      <td>0</td>\n",
       "      <td>0</td>\n",
       "      <td>0</td>\n",
       "      <td>0</td>\n",
       "      <td>0</td>\n",
       "      <td>0</td>\n",
       "      <td>0</td>\n",
       "      <td>0</td>\n",
       "      <td>0</td>\n",
       "      <td>5113</td>\n",
       "    </tr>\n",
       "    <tr>\n",
       "      <th>15th &amp; Crystal Dr</th>\n",
       "      <td>4</td>\n",
       "      <td>6</td>\n",
       "      <td>0</td>\n",
       "      <td>0</td>\n",
       "      <td>0</td>\n",
       "      <td>0</td>\n",
       "      <td>0</td>\n",
       "      <td>0</td>\n",
       "      <td>0</td>\n",
       "      <td>0</td>\n",
       "      <td>...</td>\n",
       "      <td>0</td>\n",
       "      <td>0</td>\n",
       "      <td>0</td>\n",
       "      <td>0</td>\n",
       "      <td>0</td>\n",
       "      <td>0</td>\n",
       "      <td>0</td>\n",
       "      <td>0</td>\n",
       "      <td>0</td>\n",
       "      <td>3094</td>\n",
       "    </tr>\n",
       "    <tr>\n",
       "      <th>Aurora Hills Community Ctr/18th &amp; Hayes St</th>\n",
       "      <td>5</td>\n",
       "      <td>5</td>\n",
       "      <td>0</td>\n",
       "      <td>0</td>\n",
       "      <td>0</td>\n",
       "      <td>0</td>\n",
       "      <td>0</td>\n",
       "      <td>0</td>\n",
       "      <td>0</td>\n",
       "      <td>0</td>\n",
       "      <td>...</td>\n",
       "      <td>0</td>\n",
       "      <td>0</td>\n",
       "      <td>0</td>\n",
       "      <td>0</td>\n",
       "      <td>0</td>\n",
       "      <td>0</td>\n",
       "      <td>0</td>\n",
       "      <td>0</td>\n",
       "      <td>0</td>\n",
       "      <td>1986</td>\n",
       "    </tr>\n",
       "  </tbody>\n",
       "</table>\n",
       "<p>5 rows × 132 columns</p>\n",
       "</div>"
      ],
      "text/plain": [
       "                                            no_bikes  no_empty_docks  \\\n",
       "20th & Bell St                                     7               4   \n",
       "18th & Eads St.                                    6               4   \n",
       "20th & Crystal Dr                                  9               6   \n",
       "15th & Crystal Dr                                  4               6   \n",
       "Aurora Hills Community Ctr/18th & Hayes St         5               5   \n",
       "\n",
       "                                            fast_food  parking  restaurant  \\\n",
       "20th & Bell St                                      0        0           0   \n",
       "18th & Eads St.                                     0        0           0   \n",
       "20th & Crystal Dr                                   0        0           0   \n",
       "15th & Crystal Dr                                   0        0           0   \n",
       "Aurora Hills Community Ctr/18th & Hayes St          0        0           0   \n",
       "\n",
       "                                            convenience  post_office  \\\n",
       "20th & Bell St                                        0            0   \n",
       "18th & Eads St.                                       0            0   \n",
       "20th & Crystal Dr                                     0            0   \n",
       "15th & Crystal Dr                                     0            0   \n",
       "Aurora Hills Community Ctr/18th & Hayes St            0            0   \n",
       "\n",
       "                                            bicycle_parking  drinking_water  \\\n",
       "20th & Bell St                                            0               0   \n",
       "18th & Eads St.                                           0               0   \n",
       "20th & Crystal Dr                                         0               0   \n",
       "15th & Crystal Dr                                         0               0   \n",
       "Aurora Hills Community Ctr/18th & Hayes St                0               0   \n",
       "\n",
       "                                            recycling   ...    sculpture  \\\n",
       "20th & Bell St                                      0   ...            0   \n",
       "18th & Eads St.                                     0   ...            0   \n",
       "20th & Crystal Dr                                   0   ...            0   \n",
       "15th & Crystal Dr                                   0   ...            0   \n",
       "Aurora Hills Community Ctr/18th & Hayes St          0   ...            0   \n",
       "\n",
       "                                            hostel  picnic_site  tour_guide  \\\n",
       "20th & Bell St                                   0            0           0   \n",
       "18th & Eads St.                                  0            0           0   \n",
       "20th & Crystal Dr                                0            0           0   \n",
       "15th & Crystal Dr                                0            0           0   \n",
       "Aurora Hills Community Ctr/18th & Hayes St       0            0           0   \n",
       "\n",
       "                                            attraction  landmark  motel  \\\n",
       "20th & Bell St                                       0         0      0   \n",
       "18th & Eads St.                                      0         0      0   \n",
       "20th & Crystal Dr                                    0         0      0   \n",
       "15th & Crystal Dr                                    0         0      0   \n",
       "Aurora Hills Community Ctr/18th & Hayes St           0         0      0   \n",
       "\n",
       "                                            guest_house  gallery  riders  \n",
       "20th & Bell St                                        0        0    1688  \n",
       "18th & Eads St.                                       0        0     NaN  \n",
       "20th & Crystal Dr                                     0        0    5113  \n",
       "15th & Crystal Dr                                     0        0    3094  \n",
       "Aurora Hills Community Ctr/18th & Hayes St            0        0    1986  \n",
       "\n",
       "[5 rows x 132 columns]"
      ]
     },
     "execution_count": 183,
     "metadata": {},
     "output_type": "execute_result"
    }
   ],
   "source": [
    "stations_attrs = DataFrame(stations)\n",
    "stations_attrs.index = stations.station.values\n",
    "del stations_attrs['station'], stations_attrs['terminal_name']\n",
    "del stations_attrs['lat'], stations_attrs['long'], stations_attrs['id']\n",
    "stations_attrs['riders'] = riders_per_station\n",
    "stations_attrs.head()"
   ]
  },
  {
   "cell_type": "code",
   "execution_count": 184,
   "metadata": {
    "collapsed": true
   },
   "outputs": [],
   "source": [
    "stations_attrs = stations_attrs.dropna()"
   ]
  },
  {
   "cell_type": "code",
   "execution_count": 185,
   "metadata": {
    "collapsed": true
   },
   "outputs": [],
   "source": [
    "test_data = stations_attrs.copy()"
   ]
  },
  {
   "cell_type": "code",
   "execution_count": 186,
   "metadata": {
    "collapsed": false
   },
   "outputs": [
    {
     "data": {
      "text/html": [
       "<div>\n",
       "<table border=\"1\" class=\"dataframe\">\n",
       "  <thead>\n",
       "    <tr style=\"text-align: right;\">\n",
       "      <th></th>\n",
       "      <th>no_bikes</th>\n",
       "      <th>no_empty_docks</th>\n",
       "      <th>fast_food</th>\n",
       "      <th>parking</th>\n",
       "      <th>restaurant</th>\n",
       "      <th>convenience</th>\n",
       "      <th>post_office</th>\n",
       "      <th>bicycle_parking</th>\n",
       "      <th>drinking_water</th>\n",
       "      <th>recycling</th>\n",
       "      <th>...</th>\n",
       "      <th>sculpture</th>\n",
       "      <th>hostel</th>\n",
       "      <th>picnic_site</th>\n",
       "      <th>tour_guide</th>\n",
       "      <th>attraction</th>\n",
       "      <th>landmark</th>\n",
       "      <th>motel</th>\n",
       "      <th>guest_house</th>\n",
       "      <th>gallery</th>\n",
       "      <th>riders</th>\n",
       "    </tr>\n",
       "  </thead>\n",
       "  <tbody>\n",
       "    <tr>\n",
       "      <th>20th &amp; Bell St</th>\n",
       "      <td>7</td>\n",
       "      <td>4</td>\n",
       "      <td>0</td>\n",
       "      <td>0</td>\n",
       "      <td>0</td>\n",
       "      <td>0</td>\n",
       "      <td>0</td>\n",
       "      <td>0</td>\n",
       "      <td>0</td>\n",
       "      <td>0</td>\n",
       "      <td>...</td>\n",
       "      <td>0</td>\n",
       "      <td>0</td>\n",
       "      <td>0</td>\n",
       "      <td>0</td>\n",
       "      <td>0</td>\n",
       "      <td>0</td>\n",
       "      <td>0</td>\n",
       "      <td>0</td>\n",
       "      <td>0</td>\n",
       "      <td>1688</td>\n",
       "    </tr>\n",
       "    <tr>\n",
       "      <th>20th &amp; Crystal Dr</th>\n",
       "      <td>9</td>\n",
       "      <td>6</td>\n",
       "      <td>0</td>\n",
       "      <td>0</td>\n",
       "      <td>0</td>\n",
       "      <td>0</td>\n",
       "      <td>0</td>\n",
       "      <td>0</td>\n",
       "      <td>0</td>\n",
       "      <td>0</td>\n",
       "      <td>...</td>\n",
       "      <td>0</td>\n",
       "      <td>0</td>\n",
       "      <td>0</td>\n",
       "      <td>0</td>\n",
       "      <td>0</td>\n",
       "      <td>0</td>\n",
       "      <td>0</td>\n",
       "      <td>0</td>\n",
       "      <td>0</td>\n",
       "      <td>5113</td>\n",
       "    </tr>\n",
       "    <tr>\n",
       "      <th>15th &amp; Crystal Dr</th>\n",
       "      <td>4</td>\n",
       "      <td>6</td>\n",
       "      <td>0</td>\n",
       "      <td>0</td>\n",
       "      <td>0</td>\n",
       "      <td>0</td>\n",
       "      <td>0</td>\n",
       "      <td>0</td>\n",
       "      <td>0</td>\n",
       "      <td>0</td>\n",
       "      <td>...</td>\n",
       "      <td>0</td>\n",
       "      <td>0</td>\n",
       "      <td>0</td>\n",
       "      <td>0</td>\n",
       "      <td>0</td>\n",
       "      <td>0</td>\n",
       "      <td>0</td>\n",
       "      <td>0</td>\n",
       "      <td>0</td>\n",
       "      <td>3094</td>\n",
       "    </tr>\n",
       "    <tr>\n",
       "      <th>Aurora Hills Community Ctr/18th &amp; Hayes St</th>\n",
       "      <td>5</td>\n",
       "      <td>5</td>\n",
       "      <td>0</td>\n",
       "      <td>0</td>\n",
       "      <td>0</td>\n",
       "      <td>0</td>\n",
       "      <td>0</td>\n",
       "      <td>0</td>\n",
       "      <td>0</td>\n",
       "      <td>0</td>\n",
       "      <td>...</td>\n",
       "      <td>0</td>\n",
       "      <td>0</td>\n",
       "      <td>0</td>\n",
       "      <td>0</td>\n",
       "      <td>0</td>\n",
       "      <td>0</td>\n",
       "      <td>0</td>\n",
       "      <td>0</td>\n",
       "      <td>0</td>\n",
       "      <td>1986</td>\n",
       "    </tr>\n",
       "    <tr>\n",
       "      <th>Pentagon City Metro / 12th &amp; S Hayes St</th>\n",
       "      <td>8</td>\n",
       "      <td>11</td>\n",
       "      <td>0</td>\n",
       "      <td>0</td>\n",
       "      <td>0</td>\n",
       "      <td>0</td>\n",
       "      <td>0</td>\n",
       "      <td>0</td>\n",
       "      <td>0</td>\n",
       "      <td>0</td>\n",
       "      <td>...</td>\n",
       "      <td>0</td>\n",
       "      <td>0</td>\n",
       "      <td>0</td>\n",
       "      <td>0</td>\n",
       "      <td>0</td>\n",
       "      <td>0</td>\n",
       "      <td>0</td>\n",
       "      <td>0</td>\n",
       "      <td>0</td>\n",
       "      <td>4231</td>\n",
       "    </tr>\n",
       "  </tbody>\n",
       "</table>\n",
       "<p>5 rows × 132 columns</p>\n",
       "</div>"
      ],
      "text/plain": [
       "                                            no_bikes  no_empty_docks  \\\n",
       "20th & Bell St                                     7               4   \n",
       "20th & Crystal Dr                                  9               6   \n",
       "15th & Crystal Dr                                  4               6   \n",
       "Aurora Hills Community Ctr/18th & Hayes St         5               5   \n",
       "Pentagon City Metro / 12th & S Hayes St            8              11   \n",
       "\n",
       "                                            fast_food  parking  restaurant  \\\n",
       "20th & Bell St                                      0        0           0   \n",
       "20th & Crystal Dr                                   0        0           0   \n",
       "15th & Crystal Dr                                   0        0           0   \n",
       "Aurora Hills Community Ctr/18th & Hayes St          0        0           0   \n",
       "Pentagon City Metro / 12th & S Hayes St             0        0           0   \n",
       "\n",
       "                                            convenience  post_office  \\\n",
       "20th & Bell St                                        0            0   \n",
       "20th & Crystal Dr                                     0            0   \n",
       "15th & Crystal Dr                                     0            0   \n",
       "Aurora Hills Community Ctr/18th & Hayes St            0            0   \n",
       "Pentagon City Metro / 12th & S Hayes St               0            0   \n",
       "\n",
       "                                            bicycle_parking  drinking_water  \\\n",
       "20th & Bell St                                            0               0   \n",
       "20th & Crystal Dr                                         0               0   \n",
       "15th & Crystal Dr                                         0               0   \n",
       "Aurora Hills Community Ctr/18th & Hayes St                0               0   \n",
       "Pentagon City Metro / 12th & S Hayes St                   0               0   \n",
       "\n",
       "                                            recycling   ...    sculpture  \\\n",
       "20th & Bell St                                      0   ...            0   \n",
       "20th & Crystal Dr                                   0   ...            0   \n",
       "15th & Crystal Dr                                   0   ...            0   \n",
       "Aurora Hills Community Ctr/18th & Hayes St          0   ...            0   \n",
       "Pentagon City Metro / 12th & S Hayes St             0   ...            0   \n",
       "\n",
       "                                            hostel  picnic_site  tour_guide  \\\n",
       "20th & Bell St                                   0            0           0   \n",
       "20th & Crystal Dr                                0            0           0   \n",
       "15th & Crystal Dr                                0            0           0   \n",
       "Aurora Hills Community Ctr/18th & Hayes St       0            0           0   \n",
       "Pentagon City Metro / 12th & S Hayes St          0            0           0   \n",
       "\n",
       "                                            attraction  landmark  motel  \\\n",
       "20th & Bell St                                       0         0      0   \n",
       "20th & Crystal Dr                                    0         0      0   \n",
       "15th & Crystal Dr                                    0         0      0   \n",
       "Aurora Hills Community Ctr/18th & Hayes St           0         0      0   \n",
       "Pentagon City Metro / 12th & S Hayes St              0         0      0   \n",
       "\n",
       "                                            guest_house  gallery  riders  \n",
       "20th & Bell St                                        0        0    1688  \n",
       "20th & Crystal Dr                                     0        0    5113  \n",
       "15th & Crystal Dr                                     0        0    3094  \n",
       "Aurora Hills Community Ctr/18th & Hayes St            0        0    1986  \n",
       "Pentagon City Metro / 12th & S Hayes St               0        0    4231  \n",
       "\n",
       "[5 rows x 132 columns]"
      ]
     },
     "execution_count": 186,
     "metadata": {},
     "output_type": "execute_result"
    }
   ],
   "source": [
    "test_data.head()"
   ]
  },
  {
   "cell_type": "code",
   "execution_count": 187,
   "metadata": {
    "collapsed": false
   },
   "outputs": [],
   "source": [
    "riders = DataFrame(stations_attrs['riders'])"
   ]
  },
  {
   "cell_type": "code",
   "execution_count": 188,
   "metadata": {
    "collapsed": false
   },
   "outputs": [],
   "source": [
    "riders['riders'] = riders['riders'] / 366"
   ]
  },
  {
   "cell_type": "code",
   "execution_count": 189,
   "metadata": {
    "collapsed": false
   },
   "outputs": [
    {
     "data": {
      "text/html": [
       "<div>\n",
       "<table border=\"1\" class=\"dataframe\">\n",
       "  <thead>\n",
       "    <tr style=\"text-align: right;\">\n",
       "      <th></th>\n",
       "      <th>riders</th>\n",
       "    </tr>\n",
       "  </thead>\n",
       "  <tbody>\n",
       "    <tr>\n",
       "      <th>20th &amp; Bell St</th>\n",
       "      <td>4.612022</td>\n",
       "    </tr>\n",
       "    <tr>\n",
       "      <th>20th &amp; Crystal Dr</th>\n",
       "      <td>13.969945</td>\n",
       "    </tr>\n",
       "    <tr>\n",
       "      <th>15th &amp; Crystal Dr</th>\n",
       "      <td>8.453552</td>\n",
       "    </tr>\n",
       "    <tr>\n",
       "      <th>Aurora Hills Community Ctr/18th &amp; Hayes St</th>\n",
       "      <td>5.426230</td>\n",
       "    </tr>\n",
       "    <tr>\n",
       "      <th>Pentagon City Metro / 12th &amp; S Hayes St</th>\n",
       "      <td>11.560109</td>\n",
       "    </tr>\n",
       "  </tbody>\n",
       "</table>\n",
       "</div>"
      ],
      "text/plain": [
       "                                               riders\n",
       "20th & Bell St                               4.612022\n",
       "20th & Crystal Dr                           13.969945\n",
       "15th & Crystal Dr                            8.453552\n",
       "Aurora Hills Community Ctr/18th & Hayes St   5.426230\n",
       "Pentagon City Metro / 12th & S Hayes St     11.560109"
      ]
     },
     "execution_count": 189,
     "metadata": {},
     "output_type": "execute_result"
    }
   ],
   "source": [
    "riders.head()"
   ]
  },
  {
   "cell_type": "code",
   "execution_count": 190,
   "metadata": {
    "collapsed": true
   },
   "outputs": [],
   "source": [
    "del stations_attrs['riders']"
   ]
  },
  {
   "cell_type": "code",
   "execution_count": 191,
   "metadata": {
    "collapsed": false
   },
   "outputs": [
    {
     "data": {
      "text/plain": [
       "array([[  1.47631993e+00,   1.20997621e+00,   1.20001765e+00,\n",
       "         -4.44880886e-01,   4.98548699e-01,  -5.27674964e+01,\n",
       "          4.43726900e+00,  -5.42183347e+00,   3.78116531e+00,\n",
       "         -4.75777202e+00,   5.15326868e-01,  -2.26435656e-12,\n",
       "          1.33449442e+00,   8.21577437e+01,   8.58165293e+00,\n",
       "         -1.90662581e-13,   7.82839240e-13,   2.99445723e+00,\n",
       "          5.37601079e-12,   3.20123382e+00,   1.35265131e+01,\n",
       "         -3.71872751e+00,   3.52007911e+00,  -3.59841499e+01,\n",
       "          2.18009249e+01,  -2.95667721e+01,  -9.27332335e+00,\n",
       "          3.17726623e+01,   1.57171853e+00,   2.50914976e+00,\n",
       "         -5.03973981e+00,   8.22145879e+00,   3.17726623e+01,\n",
       "         -2.11216897e+00,   7.20873590e+00,   9.12694248e+00,\n",
       "          4.46666516e+00,  -2.44408365e+00,  -3.99141675e+01,\n",
       "         -1.42029601e+01,   7.16633871e+00,   6.75920971e+00,\n",
       "          7.95237024e+00,   5.77962986e-02,   1.25568642e+02,\n",
       "         -7.63069759e+00,  -9.10722800e+00,   1.83893087e+02,\n",
       "         -3.20103737e+00,   5.45867634e+00,  -5.88001825e+00,\n",
       "         -1.05521840e+01,   8.62340139e+01,   9.36774879e+00,\n",
       "         -6.15342667e+00,  -1.20669426e+01,   2.38241013e+01,\n",
       "          7.29288871e+00,   1.75374532e+01,   5.35215106e+01,\n",
       "          2.10914938e+01,   3.16635891e+00,   7.88679307e+00,\n",
       "         -1.44684832e+01,  -2.72579829e+00,  -1.71380142e+01,\n",
       "         -2.59806994e+01,   2.32977820e+01,  -6.95512080e+00,\n",
       "         -1.72344076e+01,  -8.80712955e+00,  -2.48664838e+01,\n",
       "          5.86487949e+01,  -9.21029039e+01,  -8.80650963e+00,\n",
       "          4.21184520e+00,  -2.27588630e-01,   2.89227849e+01,\n",
       "          2.89227849e+01,  -1.49960979e+01,   3.05728301e+01,\n",
       "          8.41822283e-01,   8.41822283e-01,   7.99613653e+01,\n",
       "         -5.51487433e-14,  -1.21530178e+01,   6.55741658e+00,\n",
       "         -5.01879780e+00,  -5.01879780e+00,  -1.76277803e+01,\n",
       "          3.41020292e-15,  -1.44882777e-14,   4.03155101e+01,\n",
       "          6.20344870e-15,   1.91894040e+01,  -4.58491038e+01,\n",
       "         -1.51717542e-14,   5.23092402e-15,  -5.37903482e-15,\n",
       "          3.57256091e-15,   6.25951845e-15,  -5.81208854e-15,\n",
       "          1.31572993e-15,  -1.02418184e-14,   8.62939291e-02,\n",
       "          2.97727164e-01,  -1.01030942e+00,   4.69871725e-01,\n",
       "          2.79253872e+01,   0.00000000e+00,  -5.41471683e-01,\n",
       "         -3.02117049e+00,   8.47786764e+00,  -8.40846750e+00,\n",
       "         -2.81364787e+01,  -7.17516283e+00,   1.46855010e+01,\n",
       "          0.00000000e+00,   4.55517970e+00,  -1.19738211e+00,\n",
       "         -7.04703523e+00,  -3.28599943e+00,   9.38306569e-01,\n",
       "         -8.41771964e+01,   3.58715391e+00,  -1.46718108e+01,\n",
       "         -5.81226995e+00,  -1.94155164e+01,  -2.10206066e+01,\n",
       "         -3.32105766e+01,   2.05089482e+00]])"
      ]
     },
     "execution_count": 191,
     "metadata": {},
     "output_type": "execute_result"
    }
   ],
   "source": [
    "x = stations_attrs\n",
    "y = riders\n",
    "model.fit(x, y)\n",
    "model.coef_"
   ]
  },
  {
   "cell_type": "markdown",
   "metadata": {},
   "source": [
    "# 2b. Plot the predicted values (model.predict(x)) against the actual values and see how they compare."
   ]
  },
  {
   "cell_type": "code",
   "execution_count": 192,
   "metadata": {
    "collapsed": false
   },
   "outputs": [
    {
     "data": {
      "image/png": "[encoded data removed]",
      "text/plain": [
       "<matplotlib.figure.Figure at 0x7fd970f1f7d0>"
      ]
     },
     "metadata": {},
     "output_type": "display_data"
    }
   ],
   "source": [
    "plt.scatter(y, model.predict(x))\n",
    "plt.show()"
   ]
  },
  {
   "cell_type": "markdown",
   "metadata": {},
   "source": [
    "# 2c. In this case, there are 129 input variables and only 185 rows which means we're very likely to overfit. Look at the model coefficients and see if anything jumps out as odd."
   ]
  },
  {
   "cell_type": "code",
   "execution_count": 193,
   "metadata": {
    "collapsed": false
   },
   "outputs": [],
   "source": [
    "coeffs = DataFrame(model.coef_)"
   ]
  },
  {
   "cell_type": "code",
   "execution_count": 194,
   "metadata": {
    "collapsed": false
   },
   "outputs": [],
   "source": [
    "pltcoeffs = coeffs.transpose()"
   ]
  },
  {
   "cell_type": "code",
   "execution_count": 195,
   "metadata": {
    "collapsed": false
   },
   "outputs": [
    {
     "data": {
      "image/png": "[encoded data removed]",
      "text/plain": [
       "<matplotlib.figure.Figure at 0x7fd967ee8a10>"
      ]
     },
     "metadata": {},
     "output_type": "display_data"
    }
   ],
   "source": [
    "pltcoeffs.plot()\n",
    "plt.show()"
   ]
  },
  {
   "cell_type": "code",
   "execution_count": 196,
   "metadata": {
    "collapsed": false
   },
   "outputs": [
    {
     "data": {
      "text/html": [
       "<div>\n",
       "<table border=\"1\" class=\"dataframe\">\n",
       "  <thead>\n",
       "    <tr style=\"text-align: right;\">\n",
       "      <th></th>\n",
       "      <th>0</th>\n",
       "      <th>1</th>\n",
       "      <th>2</th>\n",
       "      <th>3</th>\n",
       "      <th>4</th>\n",
       "      <th>5</th>\n",
       "      <th>6</th>\n",
       "      <th>7</th>\n",
       "      <th>8</th>\n",
       "      <th>9</th>\n",
       "      <th>...</th>\n",
       "      <th>121</th>\n",
       "      <th>122</th>\n",
       "      <th>123</th>\n",
       "      <th>124</th>\n",
       "      <th>125</th>\n",
       "      <th>126</th>\n",
       "      <th>127</th>\n",
       "      <th>128</th>\n",
       "      <th>129</th>\n",
       "      <th>130</th>\n",
       "    </tr>\n",
       "  </thead>\n",
       "  <tbody>\n",
       "    <tr>\n",
       "      <th>0</th>\n",
       "      <td>1.47632</td>\n",
       "      <td>1.209976</td>\n",
       "      <td>1.200018</td>\n",
       "      <td>-0.444881</td>\n",
       "      <td>0.498549</td>\n",
       "      <td>-52.767496</td>\n",
       "      <td>4.437269</td>\n",
       "      <td>-5.421833</td>\n",
       "      <td>3.781165</td>\n",
       "      <td>-4.757772</td>\n",
       "      <td>...</td>\n",
       "      <td>-3.285999</td>\n",
       "      <td>0.938307</td>\n",
       "      <td>-84.177196</td>\n",
       "      <td>3.587154</td>\n",
       "      <td>-14.671811</td>\n",
       "      <td>-5.81227</td>\n",
       "      <td>-19.415516</td>\n",
       "      <td>-21.020607</td>\n",
       "      <td>-33.210577</td>\n",
       "      <td>2.050895</td>\n",
       "    </tr>\n",
       "  </tbody>\n",
       "</table>\n",
       "<p>1 rows × 131 columns</p>\n",
       "</div>"
      ],
      "text/plain": [
       "       0         1         2         3         4          5         6    \\\n",
       "0  1.47632  1.209976  1.200018 -0.444881  0.498549 -52.767496  4.437269   \n",
       "\n",
       "        7         8         9      ...          121       122        123  \\\n",
       "0 -5.421833  3.781165 -4.757772    ...    -3.285999  0.938307 -84.177196   \n",
       "\n",
       "        124        125      126        127        128        129       130  \n",
       "0  3.587154 -14.671811 -5.81227 -19.415516 -21.020607 -33.210577  2.050895  \n",
       "\n",
       "[1 rows x 131 columns]"
      ]
     },
     "execution_count": 196,
     "metadata": {},
     "output_type": "execute_result"
    }
   ],
   "source": [
    "coeffs.head()"
   ]
  },
  {
   "cell_type": "markdown",
   "metadata": {},
   "source": [
    "# 2d. Go back and split the data into a training set and a test set. Train the model on the training set and evaluate it on the test set. How does it do?"
   ]
  },
  {
   "cell_type": "code",
   "execution_count": 199,
   "metadata": {
    "collapsed": false
   },
   "outputs": [],
   "source": [
    "# split data into two parts\n",
    "\n",
    "train_data = test_data.sample(len(test_data) / 2)\n",
    "\n",
    "test_data_riders = DataFrame(test_data['riders'])\n",
    "del test_data['riders']"
   ]
  },
  {
   "cell_type": "markdown",
   "metadata": {},
   "source": [
    "# 3a. Since we have so many variables, this is a good candidate for regularization. In particular, since we'd like to eliminate a lot of them, lasso seems like a good candidate. Build a lasso model on your training data for various values of alpha. Which variables survive?"
   ]
  },
  {
   "cell_type": "markdown",
   "metadata": {},
   "source": [
    "# 3b. How does this model perform on the test set?"
   ]
  },
  {
   "cell_type": "markdown",
   "metadata": {},
   "source": [
    "# 4. No matter how high I make alpha, the coefficient on crossing (\"number of nearby crosswalks\") never goes away. Try a simple linear regression on just that variable."
   ]
  },
  {
   "cell_type": "code",
   "execution_count": null,
   "metadata": {
    "collapsed": true
   },
   "outputs": [],
   "source": []
  }
 ],
 "metadata": {
  "kernelspec": {
   "display_name": "Python 2",
   "language": "python",
   "name": "python2"
  },
  "language_info": {
   "codemirror_mode": {
    "name": "ipython",
    "version": 2
   },
   "file_extension": ".py",
   "mimetype": "text/x-python",
   "name": "python",
   "nbconvert_exporter": "python",
   "pygments_lexer": "ipython2",
   "version": "2.7.6"
  }
 },
 "nbformat": 4,
 "nbformat_minor": 0
}
